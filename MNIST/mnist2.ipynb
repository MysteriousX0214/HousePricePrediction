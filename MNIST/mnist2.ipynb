{
 "cells": [
  {
   "cell_type": "code",
   "execution_count": 1,
   "id": "d80ae37c",
   "metadata": {},
   "outputs": [],
   "source": [
    "import torch\n",
    "import torchvision\n",
    "from torch.utils.data import DataLoader\n",
    "import matplotlib.pyplot as plt"
   ]
  },
  {
   "cell_type": "code",
   "execution_count": 2,
   "id": "5b1027ae",
   "metadata": {},
   "outputs": [
    {
     "data": {
      "text/plain": [
       "<torch._C.Generator at 0x1889a9cdc30>"
      ]
     },
     "execution_count": 2,
     "metadata": {},
     "output_type": "execute_result"
    }
   ],
   "source": [
    "n_epochs=3\n",
    "batch_size_train=64\n",
    "batch_size_test=1000\n",
    "learning_rate=0.01\n",
    "momentum=0.5\n",
    "log_interval=10\n",
    "random_seed=1\n",
    "torch.manual_seed(random_seed)"
   ]
  },
  {
   "cell_type": "code",
   "execution_count": 3,
   "id": "54a2e45b",
   "metadata": {},
   "outputs": [],
   "source": [
    "train_dataset=torchvision.datasets.MNIST(\"../num/\",True,torchvision.transforms.ToTensor(),download=True)\n",
    "test_dataset=torchvision.datasets.MNIST(\"../num/\",False,torchvision.transforms.ToTensor(),download=True)"
   ]
  },
  {
   "cell_type": "code",
   "execution_count": 4,
   "id": "72d6c6f3",
   "metadata": {},
   "outputs": [
    {
     "data": {
      "text/plain": [
       "(938, 10)"
      ]
     },
     "execution_count": 4,
     "metadata": {},
     "output_type": "execute_result"
    }
   ],
   "source": [
    "train_loader=torch.utils.data.DataLoader(dataset=train_dataset,batch_size=batch_size_train,shuffle=True)\n",
    "test_loader=torch.utils.data.DataLoader(dataset=test_dataset,batch_size=batch_size_test,shuffle=True)\n",
    "len(train_loader),len(test_loader)"
   ]
  },
  {
   "cell_type": "code",
   "execution_count": 5,
   "id": "d1fa9427",
   "metadata": {},
   "outputs": [
    {
     "name": "stdout",
     "output_type": "stream",
     "text": [
      "tensor([4, 8, 8, 6, 7, 1, 0, 7, 1, 8, 7, 6, 4, 9, 1, 5, 3, 2, 6, 8, 8, 6, 9, 4,\n",
      "        6, 0, 4, 2, 6, 7, 0, 5, 8, 6, 0, 3, 5, 7, 4, 7, 5, 1, 6, 7, 3, 6, 0, 3,\n",
      "        1, 1, 2, 6, 7, 9, 8, 0, 7, 2, 4, 3, 6, 5, 9, 5])\n",
      "torch.Size([64, 1, 28, 28])\n"
     ]
    }
   ],
   "source": [
    "# examples=enumerate(test_loader)\n",
    "# batch_idx,(example_data,example_targets)=next(examples)\n",
    "# print(batch_idx)\n",
    "# print(example_targets)\n",
    "# print(example_data.shape)\n",
    "examples=enumerate(train_loader)\n",
    "batch_idx,(example_data,example_targets)=next(examples)\n",
    "print(example_targets)\n",
    "print(example_data.shape)"
   ]
  },
  {
   "cell_type": "code",
   "execution_count": 6,
   "id": "916b6d33",
   "metadata": {},
   "outputs": [
    {
     "data": {
      "image/png": "[encoded data removed]",
      "text/plain": [
       "<Figure size 432x288 with 9 Axes>"
      ]
     },
     "metadata": {},
     "output_type": "display_data"
    }
   ],
   "source": [
    "fig=plt.figure()\n",
    "for i in range(9):\n",
    "    plt.subplot(3,3,i+1)\n",
    "    plt.tight_layout()\n",
    "    plt.imshow(example_data[i][0],cmap='gray')\n",
    "    plt.title(\"Ground Truth:{}\".format(example_targets[i]))\n",
    "    plt.xticks([])\n",
    "    plt.yticks([])\n",
    "plt.show()"
   ]
  },
  {
   "cell_type": "code",
   "execution_count": 7,
   "id": "6794b58e",
   "metadata": {},
   "outputs": [],
   "source": [
    "import torch.nn as nn\n",
    "import torch.nn.functional as F\n",
    "import torch.optim as optim"
   ]
  },
  {
   "cell_type": "code",
   "execution_count": 8,
   "id": "8c95a93e",
   "metadata": {},
   "outputs": [],
   "source": [
    "class Net(nn.Module):\n",
    "    def __init__(self):\n",
    "        super(Net,self).__init__()\n",
    "        self.conv1=nn.Conv2d(1,10,kernel_size=5)\n",
    "        self.conv2=nn.Conv2d(10,20,kernel_size=5)\n",
    "        self.conv2_drop=nn.Dropout2d()\n",
    "        self.fc1=nn.Linear(320,50)\n",
    "        self.fc2=nn.Linear(50,10)\n",
    "    def forward(self,x):\n",
    "        x=F.relu(F.max_pool2d(self.conv1(x),2))\n",
    "        x=F.relu(F.max_pool2d(self.conv2_drop(self.conv2(x)),2))\n",
    "        x=x.view(-1,320)\n",
    "        x=F.relu(self.fc1(x))\n",
    "        x=F.dropout(x,training=self.training)\n",
    "        x=self.fc2(x)\n",
    "        return F.log_softmax(x)"
   ]
  },
  {
   "cell_type": "code",
   "execution_count": 9,
   "id": "1393e753",
   "metadata": {},
   "outputs": [],
   "source": [
    "network=Net()\n",
    "optimizer=optim.SGD(network.parameters(),lr=learning_rate,momentum=momentum)"
   ]
  },
  {
   "cell_type": "code",
   "execution_count": 10,
   "id": "549dc22f",
   "metadata": {},
   "outputs": [],
   "source": [
    "train_losses=[]\n",
    "train_counter=[]\n",
    "test_losses=[]\n",
    "test_counter=[i*len(train_loader.dataset) for i in range (n_epochs+1)]"
   ]
  },
  {
   "cell_type": "code",
   "execution_count": 11,
   "id": "0e118f09",
   "metadata": {},
   "outputs": [],
   "source": [
    "def train(epoch):\n",
    "    network.train()\n",
    "    for batch_idx,(data,target) in enumerate(train_loader):\n",
    "        optimizer.zero_grad()\n",
    "        output=network(data)\n",
    "        loss=F.nll_loss(output,target)\n",
    "        loss.backward()\n",
    "        optimizer.step()\n",
    "        if batch_idx % log_interval ==0:\n",
    "            print('Train Epoch: {} [{}/{} ({:.0f}%)]\\tloss: {:.6f}'.format(epoch,batch_idx*len(data),len(train_dataset),100.*batch_idx/len(train_loader),loss.item()))\n",
    "            train_losses.append(loss.item())\n",
    "            train_counter.append((batch_idx*64)+((epoch-1)*len(train_loader.dataset)))\n",
    "            torch.save(network.state_dict(),'../model.pth')\n",
    "            torch.save(optimizer.state_dict(),'../optimizer.pth')\n",
    "#train(1)"
   ]
  },
  {
   "cell_type": "code",
   "execution_count": 12,
   "id": "ddbb3d0a",
   "metadata": {},
   "outputs": [],
   "source": [
    "def test():\n",
    "    network.eval()\n",
    "    test_loss=0.0\n",
    "    correct=0\n",
    "    with torch.no_grad():\n",
    "        for data,target in test_loader:\n",
    "            output=network(data)\n",
    "            test_loss+=F.nll_loss(output,target,size_average=False).item()\n",
    "            pred=output.data.max(1,keepdim=True)[1]\n",
    "            correct+=pred.eq(target.data.view_as(pred)).sum()\n",
    "    test_loss/=len(test_loader.dataset)\n",
    "    test_losses.append(test_loss)\n",
    "    print('\\nTest set:Avg-Loss: {:.4f},Accuracy: {}/{}({:.0f}%)\\n'.format(test_loss,correct,len(test_loader.dataset),100.*correct/len(test_loader.dataset)))\n",
    "\n",
    "#test()"
   ]
  },
  {
   "cell_type": "code",
   "execution_count": 13,
   "id": "4ca1882b",
   "metadata": {},
   "outputs": [
    {
     "name": "stderr",
     "output_type": "stream",
     "text": [
      "C:\\Users\\17358\\AppData\\Local\\Temp/ipykernel_3084/2760704493.py:16: UserWarning: Implicit dimension choice for log_softmax has been deprecated. Change the call to include dim=X as an argument.\n",
      "  return F.log_softmax(x)\n",
      "D:\\anaconda3\\lib\\site-packages\\torch\\nn\\_reduction.py:42: UserWarning: size_average and reduce args will be deprecated, please use reduction='sum' instead.\n",
      "  warnings.warn(warning.format(ret))\n"
     ]
    },
    {
     "name": "stdout",
     "output_type": "stream",
     "text": [
      "\n",
      "Test set:Avg-Loss: 2.3061,Accuracy: 926/10000(9%)\n",
      "\n",
      "Train Epoch: 1 [0/60000 (0%)]\tloss: 2.312350\n",
      "Train Epoch: 1 [640/60000 (1%)]\tloss: 2.304808\n",
      "Train Epoch: 1 [1280/60000 (2%)]\tloss: 2.309731\n",
      "Train Epoch: 1 [1920/60000 (3%)]\tloss: 2.302175\n",
      "Train Epoch: 1 [2560/60000 (4%)]\tloss: 2.286710\n",
      "Train Epoch: 1 [3200/60000 (5%)]\tloss: 2.305280\n",
      "Train Epoch: 1 [3840/60000 (6%)]\tloss: 2.292568\n",
      "Train Epoch: 1 [4480/60000 (7%)]\tloss: 2.286998\n",
      "Train Epoch: 1 [5120/60000 (9%)]\tloss: 2.303581\n",
      "Train Epoch: 1 [5760/60000 (10%)]\tloss: 2.293684\n",
      "Train Epoch: 1 [6400/60000 (11%)]\tloss: 2.274991\n",
      "Train Epoch: 1 [7040/60000 (12%)]\tloss: 2.266299\n",
      "Train Epoch: 1 [7680/60000 (13%)]\tloss: 2.289222\n",
      "Train Epoch: 1 [8320/60000 (14%)]\tloss: 2.284973\n",
      "Train Epoch: 1 [8960/60000 (15%)]\tloss: 2.270064\n",
      "Train Epoch: 1 [9600/60000 (16%)]\tloss: 2.248000\n",
      "Train Epoch: 1 [10240/60000 (17%)]\tloss: 2.244896\n",
      "Train Epoch: 1 [10880/60000 (18%)]\tloss: 2.262900\n",
      "Train Epoch: 1 [11520/60000 (19%)]\tloss: 2.242822\n",
      "Train Epoch: 1 [12160/60000 (20%)]\tloss: 2.227807\n",
      "Train Epoch: 1 [12800/60000 (21%)]\tloss: 2.214775\n",
      "Train Epoch: 1 [13440/60000 (22%)]\tloss: 2.149595\n",
      "Train Epoch: 1 [14080/60000 (23%)]\tloss: 2.122311\n",
      "Train Epoch: 1 [14720/60000 (25%)]\tloss: 2.113631\n",
      "Train Epoch: 1 [15360/60000 (26%)]\tloss: 2.126345\n",
      "Train Epoch: 1 [16000/60000 (27%)]\tloss: 1.971056\n",
      "Train Epoch: 1 [16640/60000 (28%)]\tloss: 1.935454\n",
      "Train Epoch: 1 [17280/60000 (29%)]\tloss: 1.875816\n",
      "Train Epoch: 1 [17920/60000 (30%)]\tloss: 1.891944\n",
      "Train Epoch: 1 [18560/60000 (31%)]\tloss: 1.781168\n",
      "Train Epoch: 1 [19200/60000 (32%)]\tloss: 1.746559\n",
      "Train Epoch: 1 [19840/60000 (33%)]\tloss: 1.645553\n",
      "Train Epoch: 1 [20480/60000 (34%)]\tloss: 1.573955\n",
      "Train Epoch: 1 [21120/60000 (35%)]\tloss: 1.613134\n",
      "Train Epoch: 1 [21760/60000 (36%)]\tloss: 1.391330\n",
      "Train Epoch: 1 [22400/60000 (37%)]\tloss: 1.509189\n",
      "Train Epoch: 1 [23040/60000 (38%)]\tloss: 1.437470\n",
      "Train Epoch: 1 [23680/60000 (39%)]\tloss: 1.254498\n",
      "Train Epoch: 1 [24320/60000 (41%)]\tloss: 1.368528\n",
      "Train Epoch: 1 [24960/60000 (42%)]\tloss: 1.469775\n",
      "Train Epoch: 1 [25600/60000 (43%)]\tloss: 1.234636\n",
      "Train Epoch: 1 [26240/60000 (44%)]\tloss: 1.202994\n",
      "Train Epoch: 1 [26880/60000 (45%)]\tloss: 1.236724\n",
      "Train Epoch: 1 [27520/60000 (46%)]\tloss: 1.163574\n",
      "Train Epoch: 1 [28160/60000 (47%)]\tloss: 0.986586\n",
      "Train Epoch: 1 [28800/60000 (48%)]\tloss: 0.914325\n",
      "Train Epoch: 1 [29440/60000 (49%)]\tloss: 1.286642\n",
      "Train Epoch: 1 [30080/60000 (50%)]\tloss: 1.156548\n",
      "Train Epoch: 1 [30720/60000 (51%)]\tloss: 0.928598\n",
      "Train Epoch: 1 [31360/60000 (52%)]\tloss: 0.967778\n",
      "Train Epoch: 1 [32000/60000 (53%)]\tloss: 1.031370\n",
      "Train Epoch: 1 [32640/60000 (54%)]\tloss: 0.804467\n",
      "Train Epoch: 1 [33280/60000 (55%)]\tloss: 1.050176\n",
      "Train Epoch: 1 [33920/60000 (57%)]\tloss: 0.876278\n",
      "Train Epoch: 1 [34560/60000 (58%)]\tloss: 1.020910\n",
      "Train Epoch: 1 [35200/60000 (59%)]\tloss: 0.918657\n",
      "Train Epoch: 1 [35840/60000 (60%)]\tloss: 0.924764\n",
      "Train Epoch: 1 [36480/60000 (61%)]\tloss: 0.905314\n",
      "Train Epoch: 1 [37120/60000 (62%)]\tloss: 1.033988\n",
      "Train Epoch: 1 [37760/60000 (63%)]\tloss: 0.868224\n",
      "Train Epoch: 1 [38400/60000 (64%)]\tloss: 0.885823\n",
      "Train Epoch: 1 [39040/60000 (65%)]\tloss: 0.895497\n",
      "Train Epoch: 1 [39680/60000 (66%)]\tloss: 0.869328\n",
      "Train Epoch: 1 [40320/60000 (67%)]\tloss: 0.570890\n",
      "Train Epoch: 1 [40960/60000 (68%)]\tloss: 0.608257\n",
      "Train Epoch: 1 [41600/60000 (69%)]\tloss: 0.640635\n",
      "Train Epoch: 1 [42240/60000 (70%)]\tloss: 0.550113\n",
      "Train Epoch: 1 [42880/60000 (71%)]\tloss: 0.785956\n",
      "Train Epoch: 1 [43520/60000 (72%)]\tloss: 0.629336\n",
      "Train Epoch: 1 [44160/60000 (74%)]\tloss: 0.725921\n",
      "Train Epoch: 1 [44800/60000 (75%)]\tloss: 1.044685\n",
      "Train Epoch: 1 [45440/60000 (76%)]\tloss: 0.913063\n",
      "Train Epoch: 1 [46080/60000 (77%)]\tloss: 0.744369\n",
      "Train Epoch: 1 [46720/60000 (78%)]\tloss: 0.796127\n",
      "Train Epoch: 1 [47360/60000 (79%)]\tloss: 0.901184\n",
      "Train Epoch: 1 [48000/60000 (80%)]\tloss: 0.715912\n",
      "Train Epoch: 1 [48640/60000 (81%)]\tloss: 0.580382\n",
      "Train Epoch: 1 [49280/60000 (82%)]\tloss: 0.689093\n",
      "Train Epoch: 1 [49920/60000 (83%)]\tloss: 0.845934\n",
      "Train Epoch: 1 [50560/60000 (84%)]\tloss: 0.867274\n",
      "Train Epoch: 1 [51200/60000 (85%)]\tloss: 1.032875\n",
      "Train Epoch: 1 [51840/60000 (86%)]\tloss: 0.745125\n",
      "Train Epoch: 1 [52480/60000 (87%)]\tloss: 0.871335\n",
      "Train Epoch: 1 [53120/60000 (88%)]\tloss: 0.714841\n",
      "Train Epoch: 1 [53760/60000 (90%)]\tloss: 0.739969\n",
      "Train Epoch: 1 [54400/60000 (91%)]\tloss: 0.896626\n",
      "Train Epoch: 1 [55040/60000 (92%)]\tloss: 0.810117\n",
      "Train Epoch: 1 [55680/60000 (93%)]\tloss: 0.807148\n",
      "Train Epoch: 1 [56320/60000 (94%)]\tloss: 0.960365\n",
      "Train Epoch: 1 [56960/60000 (95%)]\tloss: 0.627592\n",
      "Train Epoch: 1 [57600/60000 (96%)]\tloss: 0.514267\n",
      "Train Epoch: 1 [58240/60000 (97%)]\tloss: 0.604782\n",
      "Train Epoch: 1 [58880/60000 (98%)]\tloss: 0.925538\n",
      "Train Epoch: 1 [59520/60000 (99%)]\tloss: 0.550414\n",
      "\n",
      "Test set:Avg-Loss: 0.3573,Accuracy: 8949/10000(89%)\n",
      "\n",
      "Train Epoch: 2 [0/60000 (0%)]\tloss: 0.664814\n",
      "Train Epoch: 2 [640/60000 (1%)]\tloss: 0.575988\n",
      "Train Epoch: 2 [1280/60000 (2%)]\tloss: 0.739649\n",
      "Train Epoch: 2 [1920/60000 (3%)]\tloss: 0.702795\n",
      "Train Epoch: 2 [2560/60000 (4%)]\tloss: 0.551770\n",
      "Train Epoch: 2 [3200/60000 (5%)]\tloss: 0.331918\n",
      "Train Epoch: 2 [3840/60000 (6%)]\tloss: 0.644929\n",
      "Train Epoch: 2 [4480/60000 (7%)]\tloss: 0.618916\n",
      "Train Epoch: 2 [5120/60000 (9%)]\tloss: 0.623039\n",
      "Train Epoch: 2 [5760/60000 (10%)]\tloss: 0.729641\n",
      "Train Epoch: 2 [6400/60000 (11%)]\tloss: 0.581747\n",
      "Train Epoch: 2 [7040/60000 (12%)]\tloss: 0.517517\n",
      "Train Epoch: 2 [7680/60000 (13%)]\tloss: 0.568256\n",
      "Train Epoch: 2 [8320/60000 (14%)]\tloss: 0.796643\n",
      "Train Epoch: 2 [8960/60000 (15%)]\tloss: 0.658162\n",
      "Train Epoch: 2 [9600/60000 (16%)]\tloss: 0.659471\n",
      "Train Epoch: 2 [10240/60000 (17%)]\tloss: 0.638124\n",
      "Train Epoch: 2 [10880/60000 (18%)]\tloss: 0.724272\n",
      "Train Epoch: 2 [11520/60000 (19%)]\tloss: 0.628136\n",
      "Train Epoch: 2 [12160/60000 (20%)]\tloss: 0.558744\n",
      "Train Epoch: 2 [12800/60000 (21%)]\tloss: 0.593598\n",
      "Train Epoch: 2 [13440/60000 (22%)]\tloss: 0.627655\n",
      "Train Epoch: 2 [14080/60000 (23%)]\tloss: 0.681709\n",
      "Train Epoch: 2 [14720/60000 (25%)]\tloss: 0.441741\n",
      "Train Epoch: 2 [15360/60000 (26%)]\tloss: 0.460076\n",
      "Train Epoch: 2 [16000/60000 (27%)]\tloss: 0.402131\n",
      "Train Epoch: 2 [16640/60000 (28%)]\tloss: 0.507213\n",
      "Train Epoch: 2 [17280/60000 (29%)]\tloss: 0.565119\n",
      "Train Epoch: 2 [17920/60000 (30%)]\tloss: 0.647772\n",
      "Train Epoch: 2 [18560/60000 (31%)]\tloss: 0.460764\n",
      "Train Epoch: 2 [19200/60000 (32%)]\tloss: 0.695826\n",
      "Train Epoch: 2 [19840/60000 (33%)]\tloss: 0.608740\n",
      "Train Epoch: 2 [20480/60000 (34%)]\tloss: 0.655096\n",
      "Train Epoch: 2 [21120/60000 (35%)]\tloss: 0.528045\n",
      "Train Epoch: 2 [21760/60000 (36%)]\tloss: 0.657013\n",
      "Train Epoch: 2 [22400/60000 (37%)]\tloss: 0.795386\n",
      "Train Epoch: 2 [23040/60000 (38%)]\tloss: 0.699917\n",
      "Train Epoch: 2 [23680/60000 (39%)]\tloss: 0.459375\n",
      "Train Epoch: 2 [24320/60000 (41%)]\tloss: 0.565172\n",
      "Train Epoch: 2 [24960/60000 (42%)]\tloss: 0.368043\n",
      "Train Epoch: 2 [25600/60000 (43%)]\tloss: 0.345871\n",
      "Train Epoch: 2 [26240/60000 (44%)]\tloss: 0.435468\n",
      "Train Epoch: 2 [26880/60000 (45%)]\tloss: 0.652621\n",
      "Train Epoch: 2 [27520/60000 (46%)]\tloss: 0.381013\n",
      "Train Epoch: 2 [28160/60000 (47%)]\tloss: 0.351600\n",
      "Train Epoch: 2 [28800/60000 (48%)]\tloss: 0.464942\n",
      "Train Epoch: 2 [29440/60000 (49%)]\tloss: 0.764675\n",
      "Train Epoch: 2 [30080/60000 (50%)]\tloss: 0.593364\n",
      "Train Epoch: 2 [30720/60000 (51%)]\tloss: 0.442579\n",
      "Train Epoch: 2 [31360/60000 (52%)]\tloss: 0.649838\n",
      "Train Epoch: 2 [32000/60000 (53%)]\tloss: 0.858021\n",
      "Train Epoch: 2 [32640/60000 (54%)]\tloss: 0.455106\n",
      "Train Epoch: 2 [33280/60000 (55%)]\tloss: 0.392030\n",
      "Train Epoch: 2 [33920/60000 (57%)]\tloss: 0.680286\n",
      "Train Epoch: 2 [34560/60000 (58%)]\tloss: 0.589244\n",
      "Train Epoch: 2 [35200/60000 (59%)]\tloss: 0.551572\n",
      "Train Epoch: 2 [35840/60000 (60%)]\tloss: 0.516007\n",
      "Train Epoch: 2 [36480/60000 (61%)]\tloss: 0.549656\n",
      "Train Epoch: 2 [37120/60000 (62%)]\tloss: 0.619307\n",
      "Train Epoch: 2 [37760/60000 (63%)]\tloss: 0.538281\n",
      "Train Epoch: 2 [38400/60000 (64%)]\tloss: 0.415587\n",
      "Train Epoch: 2 [39040/60000 (65%)]\tloss: 0.298765\n",
      "Train Epoch: 2 [39680/60000 (66%)]\tloss: 0.452192\n",
      "Train Epoch: 2 [40320/60000 (67%)]\tloss: 0.351982\n",
      "Train Epoch: 2 [40960/60000 (68%)]\tloss: 0.674280\n",
      "Train Epoch: 2 [41600/60000 (69%)]\tloss: 0.209730\n",
      "Train Epoch: 2 [42240/60000 (70%)]\tloss: 0.478635\n",
      "Train Epoch: 2 [42880/60000 (71%)]\tloss: 0.744436\n",
      "Train Epoch: 2 [43520/60000 (72%)]\tloss: 0.416671\n"
     ]
    },
    {
     "name": "stdout",
     "output_type": "stream",
     "text": [
      "Train Epoch: 2 [44160/60000 (74%)]\tloss: 0.488213\n",
      "Train Epoch: 2 [44800/60000 (75%)]\tloss: 0.363627\n",
      "Train Epoch: 2 [45440/60000 (76%)]\tloss: 0.633494\n",
      "Train Epoch: 2 [46080/60000 (77%)]\tloss: 0.476490\n",
      "Train Epoch: 2 [46720/60000 (78%)]\tloss: 0.422183\n",
      "Train Epoch: 2 [47360/60000 (79%)]\tloss: 0.319270\n",
      "Train Epoch: 2 [48000/60000 (80%)]\tloss: 0.413971\n",
      "Train Epoch: 2 [48640/60000 (81%)]\tloss: 0.397322\n",
      "Train Epoch: 2 [49280/60000 (82%)]\tloss: 0.439873\n",
      "Train Epoch: 2 [49920/60000 (83%)]\tloss: 0.378627\n",
      "Train Epoch: 2 [50560/60000 (84%)]\tloss: 0.493354\n",
      "Train Epoch: 2 [51200/60000 (85%)]\tloss: 0.585419\n",
      "Train Epoch: 2 [51840/60000 (86%)]\tloss: 0.369550\n",
      "Train Epoch: 2 [52480/60000 (87%)]\tloss: 0.475004\n",
      "Train Epoch: 2 [53120/60000 (88%)]\tloss: 0.457564\n",
      "Train Epoch: 2 [53760/60000 (90%)]\tloss: 0.357817\n",
      "Train Epoch: 2 [54400/60000 (91%)]\tloss: 0.255174\n",
      "Train Epoch: 2 [55040/60000 (92%)]\tloss: 0.647213\n",
      "Train Epoch: 2 [55680/60000 (93%)]\tloss: 0.427000\n",
      "Train Epoch: 2 [56320/60000 (94%)]\tloss: 0.524500\n",
      "Train Epoch: 2 [56960/60000 (95%)]\tloss: 0.406401\n",
      "Train Epoch: 2 [57600/60000 (96%)]\tloss: 0.688569\n",
      "Train Epoch: 2 [58240/60000 (97%)]\tloss: 0.630698\n",
      "Train Epoch: 2 [58880/60000 (98%)]\tloss: 0.382567\n",
      "Train Epoch: 2 [59520/60000 (99%)]\tloss: 0.382162\n",
      "\n",
      "Test set:Avg-Loss: 0.1959,Accuracy: 9401/10000(94%)\n",
      "\n",
      "Train Epoch: 3 [0/60000 (0%)]\tloss: 0.366503\n",
      "Train Epoch: 3 [640/60000 (1%)]\tloss: 0.362065\n",
      "Train Epoch: 3 [1280/60000 (2%)]\tloss: 0.529249\n",
      "Train Epoch: 3 [1920/60000 (3%)]\tloss: 0.314535\n",
      "Train Epoch: 3 [2560/60000 (4%)]\tloss: 0.340850\n",
      "Train Epoch: 3 [3200/60000 (5%)]\tloss: 0.413879\n",
      "Train Epoch: 3 [3840/60000 (6%)]\tloss: 0.465139\n",
      "Train Epoch: 3 [4480/60000 (7%)]\tloss: 0.638028\n",
      "Train Epoch: 3 [5120/60000 (9%)]\tloss: 0.532212\n",
      "Train Epoch: 3 [5760/60000 (10%)]\tloss: 0.512239\n",
      "Train Epoch: 3 [6400/60000 (11%)]\tloss: 0.429159\n",
      "Train Epoch: 3 [7040/60000 (12%)]\tloss: 0.326953\n",
      "Train Epoch: 3 [7680/60000 (13%)]\tloss: 0.387475\n",
      "Train Epoch: 3 [8320/60000 (14%)]\tloss: 0.300483\n",
      "Train Epoch: 3 [8960/60000 (15%)]\tloss: 0.410926\n",
      "Train Epoch: 3 [9600/60000 (16%)]\tloss: 0.317960\n",
      "Train Epoch: 3 [10240/60000 (17%)]\tloss: 0.390076\n",
      "Train Epoch: 3 [10880/60000 (18%)]\tloss: 0.399925\n",
      "Train Epoch: 3 [11520/60000 (19%)]\tloss: 0.425694\n",
      "Train Epoch: 3 [12160/60000 (20%)]\tloss: 0.477979\n",
      "Train Epoch: 3 [12800/60000 (21%)]\tloss: 0.535881\n",
      "Train Epoch: 3 [13440/60000 (22%)]\tloss: 0.441300\n",
      "Train Epoch: 3 [14080/60000 (23%)]\tloss: 0.516957\n",
      "Train Epoch: 3 [14720/60000 (25%)]\tloss: 0.382752\n",
      "Train Epoch: 3 [15360/60000 (26%)]\tloss: 0.447104\n",
      "Train Epoch: 3 [16000/60000 (27%)]\tloss: 0.957811\n",
      "Train Epoch: 3 [16640/60000 (28%)]\tloss: 0.682614\n",
      "Train Epoch: 3 [17280/60000 (29%)]\tloss: 0.574518\n",
      "Train Epoch: 3 [17920/60000 (30%)]\tloss: 0.370921\n",
      "Train Epoch: 3 [18560/60000 (31%)]\tloss: 0.389218\n",
      "Train Epoch: 3 [19200/60000 (32%)]\tloss: 0.556844\n",
      "Train Epoch: 3 [19840/60000 (33%)]\tloss: 0.449910\n",
      "Train Epoch: 3 [20480/60000 (34%)]\tloss: 0.342751\n",
      "Train Epoch: 3 [21120/60000 (35%)]\tloss: 0.303542\n",
      "Train Epoch: 3 [21760/60000 (36%)]\tloss: 0.320748\n",
      "Train Epoch: 3 [22400/60000 (37%)]\tloss: 0.484545\n",
      "Train Epoch: 3 [23040/60000 (38%)]\tloss: 0.574214\n",
      "Train Epoch: 3 [23680/60000 (39%)]\tloss: 0.321369\n",
      "Train Epoch: 3 [24320/60000 (41%)]\tloss: 0.388259\n",
      "Train Epoch: 3 [24960/60000 (42%)]\tloss: 0.264472\n",
      "Train Epoch: 3 [25600/60000 (43%)]\tloss: 0.371845\n",
      "Train Epoch: 3 [26240/60000 (44%)]\tloss: 0.290183\n",
      "Train Epoch: 3 [26880/60000 (45%)]\tloss: 0.324358\n",
      "Train Epoch: 3 [27520/60000 (46%)]\tloss: 0.281129\n",
      "Train Epoch: 3 [28160/60000 (47%)]\tloss: 0.324744\n",
      "Train Epoch: 3 [28800/60000 (48%)]\tloss: 0.598995\n",
      "Train Epoch: 3 [29440/60000 (49%)]\tloss: 0.179367\n",
      "Train Epoch: 3 [30080/60000 (50%)]\tloss: 0.281889\n",
      "Train Epoch: 3 [30720/60000 (51%)]\tloss: 0.260302\n",
      "Train Epoch: 3 [31360/60000 (52%)]\tloss: 0.306672\n",
      "Train Epoch: 3 [32000/60000 (53%)]\tloss: 0.426429\n",
      "Train Epoch: 3 [32640/60000 (54%)]\tloss: 0.443797\n",
      "Train Epoch: 3 [33280/60000 (55%)]\tloss: 0.226111\n",
      "Train Epoch: 3 [33920/60000 (57%)]\tloss: 0.518565\n",
      "Train Epoch: 3 [34560/60000 (58%)]\tloss: 0.296202\n",
      "Train Epoch: 3 [35200/60000 (59%)]\tloss: 0.363159\n",
      "Train Epoch: 3 [35840/60000 (60%)]\tloss: 0.616337\n",
      "Train Epoch: 3 [36480/60000 (61%)]\tloss: 0.315825\n",
      "Train Epoch: 3 [37120/60000 (62%)]\tloss: 0.309528\n",
      "Train Epoch: 3 [37760/60000 (63%)]\tloss: 0.426840\n",
      "Train Epoch: 3 [38400/60000 (64%)]\tloss: 0.458798\n",
      "Train Epoch: 3 [39040/60000 (65%)]\tloss: 0.389829\n",
      "Train Epoch: 3 [39680/60000 (66%)]\tloss: 0.342979\n",
      "Train Epoch: 3 [40320/60000 (67%)]\tloss: 0.369633\n",
      "Train Epoch: 3 [40960/60000 (68%)]\tloss: 0.569058\n",
      "Train Epoch: 3 [41600/60000 (69%)]\tloss: 0.484454\n",
      "Train Epoch: 3 [42240/60000 (70%)]\tloss: 0.412337\n",
      "Train Epoch: 3 [42880/60000 (71%)]\tloss: 0.291822\n",
      "Train Epoch: 3 [43520/60000 (72%)]\tloss: 0.398968\n",
      "Train Epoch: 3 [44160/60000 (74%)]\tloss: 0.388204\n",
      "Train Epoch: 3 [44800/60000 (75%)]\tloss: 0.206980\n",
      "Train Epoch: 3 [45440/60000 (76%)]\tloss: 0.284571\n",
      "Train Epoch: 3 [46080/60000 (77%)]\tloss: 0.406276\n",
      "Train Epoch: 3 [46720/60000 (78%)]\tloss: 0.296413\n",
      "Train Epoch: 3 [47360/60000 (79%)]\tloss: 0.657787\n",
      "Train Epoch: 3 [48000/60000 (80%)]\tloss: 0.363122\n",
      "Train Epoch: 3 [48640/60000 (81%)]\tloss: 0.269894\n",
      "Train Epoch: 3 [49280/60000 (82%)]\tloss: 0.343246\n",
      "Train Epoch: 3 [49920/60000 (83%)]\tloss: 0.544553\n",
      "Train Epoch: 3 [50560/60000 (84%)]\tloss: 0.487584\n",
      "Train Epoch: 3 [51200/60000 (85%)]\tloss: 0.523775\n",
      "Train Epoch: 3 [51840/60000 (86%)]\tloss: 0.328270\n",
      "Train Epoch: 3 [52480/60000 (87%)]\tloss: 0.673323\n",
      "Train Epoch: 3 [53120/60000 (88%)]\tloss: 0.421782\n",
      "Train Epoch: 3 [53760/60000 (90%)]\tloss: 0.254135\n",
      "Train Epoch: 3 [54400/60000 (91%)]\tloss: 0.558502\n",
      "Train Epoch: 3 [55040/60000 (92%)]\tloss: 0.358862\n",
      "Train Epoch: 3 [55680/60000 (93%)]\tloss: 0.337941\n",
      "Train Epoch: 3 [56320/60000 (94%)]\tloss: 0.330798\n",
      "Train Epoch: 3 [56960/60000 (95%)]\tloss: 0.386985\n",
      "Train Epoch: 3 [57600/60000 (96%)]\tloss: 0.588916\n",
      "Train Epoch: 3 [58240/60000 (97%)]\tloss: 0.611842\n",
      "Train Epoch: 3 [58880/60000 (98%)]\tloss: 0.186667\n",
      "Train Epoch: 3 [59520/60000 (99%)]\tloss: 0.267315\n",
      "\n",
      "Test set:Avg-Loss: 0.1473,Accuracy: 9543/10000(95%)\n",
      "\n"
     ]
    }
   ],
   "source": [
    "test()\n",
    "for epoch in range(1,n_epochs+1):\n",
    "    train(epoch)\n",
    "    test()\n"
   ]
  },
  {
   "cell_type": "code",
   "execution_count": 14,
   "id": "5621ca8b",
   "metadata": {
    "scrolled": true
   },
   "outputs": [
    {
     "data": {
      "image/png": "[encoded data removed]",
      "text/plain": [
       "<Figure size 432x288 with 1 Axes>"
      ]
     },
     "metadata": {
      "needs_background": "light"
     },
     "output_type": "display_data"
    }
   ],
   "source": [
    "import matplotlib.pyplot as plt\n",
    "fig=plt.figure()\n",
    "plt.plot(train_counter,train_losses,color='blue')\n",
    "plt.scatter(test_counter,test_losses,color='red')\n",
    "plt.legend(['train_loss','test_loss'],loc='upper right')\n",
    "plt.xlabel('number of train examples')\n",
    "plt.ylabel('negative log likelihood loss')\n",
    "plt.show()"
   ]
  },
  {
   "cell_type": "code",
   "execution_count": null,
   "id": "8d7751a4",
   "metadata": {},
   "outputs": [],
   "source": []
  }
 ],
 "metadata": {
  "kernelspec": {
   "display_name": "Python 3 (ipykernel)",
   "language": "python",
   "name": "python3"
  },
  "language_info": {
   "codemirror_mode": {
    "name": "ipython",
    "version": 3
   },
   "file_extension": ".py",
   "mimetype": "text/x-python",
   "name": "python",
   "nbconvert_exporter": "python",
   "pygments_lexer": "ipython3",
   "version": "3.9.7"
  }
 },
 "nbformat": 4,
 "nbformat_minor": 5
}
