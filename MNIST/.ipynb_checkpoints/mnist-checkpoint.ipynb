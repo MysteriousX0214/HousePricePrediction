{
 "cells": [
  {
   "cell_type": "code",
   "execution_count": 4,
   "id": "a3ab0d3f",
   "metadata": {},
   "outputs": [],
   "source": [
    "import torch\n",
    "import torch.nn as nn\n",
    "import torch.nn.functional as F\n",
    "import torch.optim as optim\n",
    "import torchvision\n",
    "from torchvision import datasets,transforms\n",
    "from torch.autograd import Variable\n",
    "from torch.utils.data import DataLoader\n",
    "import cv2"
   ]
  },
  {
   "cell_type": "code",
   "execution_count": 5,
   "id": "cb22f63a",
   "metadata": {},
   "outputs": [],
   "source": [
    "train_dataset=datasets.MNIST(\"./num/\",True,transforms.ToTensor(),download=True)\n",
    "test_dataset=datasets.MNIST(\"./num/\",False,transforms.ToTensor(),download=True)"
   ]
  },
  {
   "cell_type": "code",
   "execution_count": 6,
   "id": "a1033fd6",
   "metadata": {},
   "outputs": [
    {
     "data": {
      "text/plain": [
       "(938, 157)"
      ]
     },
     "execution_count": 6,
     "metadata": {},
     "output_type": "execute_result"
    }
   ],
   "source": [
    "batch_size=64\n",
    "train_loader=torch.utils.data.DataLoader(dataset=train_dataset,batch_size=batch_size,shuffle=True)\n",
    "test_loader=torch.utils.data.DataLoader(dataset=test_dataset,batch_size=batch_size,shuffle=True)\n",
    "len(train_loader),len(test_loader)"
   ]
  },
  {
   "cell_type": "code",
   "execution_count": 7,
   "id": "eab55089",
   "metadata": {},
   "outputs": [
    {
     "name": "stdout",
     "output_type": "stream",
     "text": [
      "tensor([7, 1, 8, 7, 6, 1, 9, 7, 2, 9, 6, 3, 2, 8, 8, 2, 6, 1, 0, 9, 9, 0, 1, 7,\n",
      "        9, 1, 3, 1, 6, 5, 3, 8, 3, 8, 5, 4, 4, 3, 9, 1, 3, 3, 3, 6, 9, 6, 6, 0,\n",
      "        5, 0, 6, 0, 8, 3, 9, 1, 8, 4, 7, 5, 9, 3, 6, 1])\n",
      "torch.Size([64, 1, 28, 28])\n",
      "torch.Size([64])\n"
     ]
    }
   ],
   "source": [
    "images,labels=next(iter(train_loader))\n",
    "img=torchvision.utils.make_grid(images,nrow=8,padding=0)\n",
    "img=img.numpy().transpose(1,2,0)\n",
    "std=[0.5,0.5,0.5]\n",
    "mean=[0.5,0.5,0.5]\n",
    "img=img*std+mean\n",
    "print(labels)\n",
    "print(images.shape)\n",
    "print(labels.shape)\n",
    "cv2.imshow(\"win\",img)\n",
    "key_pressed=cv2.waitKey(0)"
   ]
  },
  {
   "cell_type": "code",
   "execution_count": 8,
   "id": "af037dac",
   "metadata": {},
   "outputs": [],
   "source": [
    "# 卷积层使用 torch.nn.Conv2d\n",
    "# 激活层使用 torch.nn.ReLU\n",
    "# 池化层使用 torch.nn.MaxPool2d\n",
    "# 全连接层使用 torch.nn.Linear\n",
    "class LeNet(nn.Module):\n",
    "    def __init__(self):\n",
    "        super(LeNet,self).__init__()\n",
    "        self.conv1=nn.Sequential(nn.Conv2d(1,6,3,1,2),nn.ReLU(),nn.MaxPool2d(2,2))\n",
    "        self.conv2=nn.Sequential(nn.Conv2d(6,16,5),nn.ReLU(),nn.MaxPool2d(2,2))\n",
    "        self.fc1=nn.Sequential(nn.Linear(16*5*5,120),nn.BatchNorm1d(120),nn.ReLU())\n",
    "        self.fc2=nn.Sequential(nn.Linear(120,84),nn.BatchNorm1d(84),nn.ReLU(),nn.Linear(84,10))\n",
    "    \n",
    "    def forward(self,x):\n",
    "        x=self.conv1(x)\n",
    "        x=self.conv2(x)\n",
    "        x=x.view(x.size()[0],-1)\n",
    "        x=self.fc1(x)\n",
    "        x=self.fc2(x)\n",
    "        return x"
   ]
  },
  {
   "cell_type": "code",
   "execution_count": 9,
   "id": "0173f10a",
   "metadata": {},
   "outputs": [
    {
     "name": "stdout",
     "output_type": "stream",
     "text": [
      "[1,100] loss:0.705\n",
      "[1,200] loss:0.195\n",
      "[1,300] loss:0.141\n",
      "[1,400] loss:0.102\n",
      "[1,500] loss:0.110\n",
      "[1,600] loss:0.093\n",
      "[1,700] loss:0.082\n",
      "[1,800] loss:0.069\n",
      "[1,900] loss:0.065\n",
      "[2,100] loss:0.046\n",
      "[2,200] loss:0.057\n",
      "[2,300] loss:0.056\n",
      "[2,400] loss:0.057\n",
      "[2,500] loss:0.050\n",
      "[2,600] loss:0.054\n",
      "[2,700] loss:0.049\n",
      "[2,800] loss:0.047\n",
      "[2,900] loss:0.050\n",
      "[3,100] loss:0.033\n",
      "[3,200] loss:0.033\n",
      "[3,300] loss:0.032\n",
      "[3,400] loss:0.036\n",
      "[3,500] loss:0.034\n",
      "[3,600] loss:0.033\n",
      "[3,700] loss:0.036\n",
      "[3,800] loss:0.043\n",
      "[3,900] loss:0.041\n",
      "[4,100] loss:0.029\n",
      "[4,200] loss:0.025\n",
      "[4,300] loss:0.023\n",
      "[4,400] loss:0.028\n",
      "[4,500] loss:0.031\n",
      "[4,600] loss:0.029\n",
      "[4,700] loss:0.028\n",
      "[4,800] loss:0.032\n",
      "[4,900] loss:0.028\n"
     ]
    }
   ],
   "source": [
    "device=torch.device('cuda'if torch.cuda.is_available() else 'cpu')\n",
    "LR=0.001\n",
    "net=LeNet().to(device)\n",
    "criterion=nn.CrossEntropyLoss()\n",
    "optimizer=optim.Adam(net.parameters(),lr=LR)\n",
    "epoch=4\n",
    "def train(epoch):\n",
    "    for epoch in range(epoch):\n",
    "        sum_loss=0.0\n",
    "        for i,data in enumerate(train_loader):\n",
    "            inputs,labels=data\n",
    "            inputs,labels=Variable(inputs).cuda(),Variable(labels).cuda()\n",
    "            optimizer.zero_grad()\n",
    "            outputs=net(inputs)\n",
    "            loss=criterion(outputs,labels)\n",
    "            loss.backward()\n",
    "            optimizer.step()\n",
    "            \n",
    "            \n",
    "            sum_loss += loss.item()\n",
    "            if i % 100 == 99:\n",
    "                print('[%d,%d] loss:%.03f' %\n",
    "                      (epoch + 1, i + 1, sum_loss / 100))\n",
    "                sum_loss = 0.0\n",
    "train(epoch)"
   ]
  },
  {
   "cell_type": "code",
   "execution_count": 10,
   "id": "bcd0765a",
   "metadata": {},
   "outputs": [
    {
     "name": "stdout",
     "output_type": "stream",
     "text": [
      "correct1:  tensor(9878, device='cuda:0')\n",
      "Test acc: 0.9878\n"
     ]
    }
   ],
   "source": [
    "    net.eval()  #将模型变换为测试模式\n",
    "    correct = 0\n",
    "    total = 0\n",
    "    for data_test in test_loader:\n",
    "        images, labels = data_test\n",
    "        images, labels = Variable(images).cuda(), Variable(labels).cuda()\n",
    "        output_test = net(images)\n",
    "        _, predicted = torch.max(output_test, 1)\n",
    "        total += labels.size(0)\n",
    "        correct += (predicted == labels).sum()\n",
    "    print(\"correct1: \", correct)\n",
    "    print(\"Test acc: {0}\".format(correct.item() /\n",
    "                                 len(test_dataset)))"
   ]
  },
  {
   "cell_type": "code",
   "execution_count": null,
   "id": "24b98b08",
   "metadata": {},
   "outputs": [],
   "source": []
  }
 ],
 "metadata": {
  "kernelspec": {
   "display_name": "Python 3 (ipykernel)",
   "language": "python",
   "name": "python3"
  },
  "language_info": {
   "codemirror_mode": {
    "name": "ipython",
    "version": 3
   },
   "file_extension": ".py",
   "mimetype": "text/x-python",
   "name": "python",
   "nbconvert_exporter": "python",
   "pygments_lexer": "ipython3",
   "version": "3.9.7"
  }
 },
 "nbformat": 4,
 "nbformat_minor": 5
}
